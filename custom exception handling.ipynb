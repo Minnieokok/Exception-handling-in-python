{
 "cells": [
  {
   "cell_type": "code",
   "execution_count": 1,
   "id": "b9c7b408-de3f-4a34-a7dd-e91703931eaf",
   "metadata": {},
   "outputs": [],
   "source": [
    "class valage(Exception):\n",
    "    def __init__(self,msg):\n",
    "        self.msg=msg"
   ]
  },
  {
   "cell_type": "code",
   "execution_count": 2,
   "id": "6fce1c8b-a310-47e0-a424-8a0cfaa0c423",
   "metadata": {},
   "outputs": [],
   "source": [
    "def vali_age(age):\n",
    "    if age < 0:\n",
    "        raise valage(\"age shuld be not be lesser then zero\")\n",
    "    elif age >200:\n",
    "        raise valage(\"age is tooo high\")\n",
    "    else:\n",
    "        print(\"age is valid\")"
   ]
  },
  {
   "cell_type": "code",
   "execution_count": 6,
   "id": "44a88bbb-fb10-42e5-9a13-2e180d8a58ba",
   "metadata": {},
   "outputs": [
    {
     "name": "stdin",
     "output_type": "stream",
     "text": [
      "Enter the age -3\n"
     ]
    },
    {
     "name": "stdout",
     "output_type": "stream",
     "text": [
      "age shuld be not be lesser then zero\n"
     ]
    }
   ],
   "source": [
    "try:\n",
    "    age=int(input(\"Enter the age\"))\n",
    "    vali_age(age)\n",
    "except Exception as e:\n",
    "    print(e)"
   ]
  },
  {
   "cell_type": "code",
   "execution_count": null,
   "id": "e45262b1-72a8-417e-9920-eb86637bda04",
   "metadata": {},
   "outputs": [],
   "source": []
  }
 ],
 "metadata": {
  "kernelspec": {
   "display_name": "Python 3 (ipykernel)",
   "language": "python",
   "name": "python3"
  },
  "language_info": {
   "codemirror_mode": {
    "name": "ipython",
    "version": 3
   },
   "file_extension": ".py",
   "mimetype": "text/x-python",
   "name": "python",
   "nbconvert_exporter": "python",
   "pygments_lexer": "ipython3",
   "version": "3.10.8"
  }
 },
 "nbformat": 4,
 "nbformat_minor": 5
}
