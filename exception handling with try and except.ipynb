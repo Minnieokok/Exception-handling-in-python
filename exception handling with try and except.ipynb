{
 "cells": [
  {
   "cell_type": "markdown",
   "id": "87d35781-57fb-4b2b-9a45-8680ec302fb9",
   "metadata": {},
   "source": [
    "eg1:"
   ]
  },
  {
   "cell_type": "code",
   "execution_count": 2,
   "id": "cd33edce-9ee8-43f9-9073-e92d2c32cd74",
   "metadata": {},
   "outputs": [
    {
     "name": "stdout",
     "output_type": "stream",
     "text": [
      "there is a error in  [Errno 2] No such file or directory: 'test.txt'\n"
     ]
    }
   ],
   "source": [
    "try:\n",
    "    f=open(\"test.txt\",\"r\")\n",
    "except Exception as e:\n",
    "    print(\"there is a error in \",e)"
   ]
  },
  {
   "cell_type": "markdown",
   "id": "b1ae6434-4a1d-43d0-ba84-deb64c94304b",
   "metadata": {},
   "source": [
    "eg2"
   ]
  },
  {
   "cell_type": "code",
   "execution_count": 5,
   "id": "0862de0a-7a10-4b9e-bb0f-5244b042d260",
   "metadata": {},
   "outputs": [
    {
     "name": "stdout",
     "output_type": "stream",
     "text": [
      "this block with execute once try will execut itself with an exception\n"
     ]
    }
   ],
   "source": [
    "try:\n",
    "    f=open(\"text.txt\",\"w\")\n",
    "    f.write(\"this is my msg\")\n",
    "except Exception as e:\n",
    "    print(\"there is a error in \",e)\n",
    "else:\n",
    "    f.close()\n",
    "    print(\"this block with execute once try will execut itself with an exception\")"
   ]
  },
  {
   "cell_type": "markdown",
   "id": "bd00d7f8-5008-4495-a2fb-6bd159bba7d3",
   "metadata": {},
   "source": [
    "eg3:"
   ]
  },
  {
   "cell_type": "code",
   "execution_count": 9,
   "id": "80aa9ed2-af8f-4bf3-8864-fc2d0b65bb5e",
   "metadata": {},
   "outputs": [
    {
     "name": "stdout",
     "output_type": "stream",
     "text": [
      "this will always execute\n"
     ]
    }
   ],
   "source": [
    "try:\n",
    "    f=open(\"test.txt\",\"w\")\n",
    "    f.write(\"this is my file\")\n",
    "finally:\n",
    "    print(\"this will always execute\")"
   ]
  },
  {
   "cell_type": "code",
   "execution_count": null,
   "id": "10dc28a5-7cd3-446d-aac3-fbc064f83bb5",
   "metadata": {},
   "outputs": [],
   "source": []
  }
 ],
 "metadata": {
  "kernelspec": {
   "display_name": "Python 3 (ipykernel)",
   "language": "python",
   "name": "python3"
  },
  "language_info": {
   "codemirror_mode": {
    "name": "ipython",
    "version": 3
   },
   "file_extension": ".py",
   "mimetype": "text/x-python",
   "name": "python",
   "nbconvert_exporter": "python",
   "pygments_lexer": "ipython3",
   "version": "3.10.8"
  }
 },
 "nbformat": 4,
 "nbformat_minor": 5
}
